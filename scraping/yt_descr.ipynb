{
 "cells": [
  {
   "cell_type": "code",
   "execution_count": 37,
   "metadata": {},
   "outputs": [],
   "source": [
    "\n",
    "from selenium import webdriver\n",
    "from bs4 import BeautifulSoup\n",
    "import time\n",
    "import urllib\n",
    "import requests\n",
    "import re\n",
    "import pandas as pd\n",
    "from pytube import YouTube"
   ]
  },
  {
   "cell_type": "code",
   "execution_count": 38,
   "metadata": {
    "tags": []
   },
   "outputs": [
    {
     "output_type": "stream",
     "name": "stdout",
     "text": "['삼겹살 맛집']\n1\nhttps://www.youtube.com/watch?v=rap2_iBZncA\n2\nhttps://www.youtube.com/watch?v=UTw55V0Ubfo\n3\nhttps://www.youtube.com/watch?v=8B8boXS8_iU\n4\nhttps://www.youtube.com/watch?v=8tP0dDdMg_c\n5\nhttps://www.youtube.com/watch?v=DjxDfx-4GEc\n6\nhttps://www.youtube.com/watch?v=kK4I76sBajA\n7\nhttps://www.youtube.com/watch?v=puTFGwzozJY\n8\nhttps://www.youtube.com/watch?v=fen6DTdrXF8\n9\nhttps://www.youtube.com/watch?v=QjLA1vjjSqc\n10\nhttps://www.youtube.com/watch?v=Fi3jXyo51ic\n['곱창 맛집']\n1\nhttps://www.youtube.com/watch?v=gt3FSWFJFuI\n2\nhttps://www.youtube.com/watch?v=jxtLrJlWy5k\n3\nhttps://www.youtube.com/watch?v=y3vtQs1M_Jc\n4\nhttps://www.youtube.com/watch?v=vYN8che1Yvc\n5\nhttps://www.youtube.com/watch?v=mwMYLipQluk\n6\nhttps://www.youtube.com/watch?v=9tUARHFINsk\n7\nhttps://www.youtube.com/watch?v=gndm7WVdaGY\n8\nhttps://www.youtube.com/watch?v=3_EaPPGKkRs\n9\nhttps://www.youtube.com/watch?v=v76_f5q54rI\n10\nhttps://www.youtube.com/watch?v=vYhXyavJxPw\nㅡ * ㅡㅡ * ㅡㅡ * ㅡㅡ * ㅡㅡ * ㅡㅡ * ㅡㅡ * ㅡㅡ * ㅡㅡ * ㅡㅡ * ㅡ\n"
    }
   ],
   "source": [
    "word = ['삼겹살 맛집', '곱창 맛집']\n",
    "dic = {}\n",
    "\n",
    "for i in word:\n",
    "    print([i])\n",
    "    n = 1\n",
    "    val = []\n",
    "    word_encode = urllib.parse.quote(i)\n",
    "    driver = webdriver.Chrome('chromedriver')\n",
    "    driver.get('https://www.youtube.com/results?search_query={}'.format(word_encode))\n",
    "\n",
    "    time.sleep(2)\n",
    "\n",
    "    #print(word_encode)\n",
    "    \n",
    "    html = driver.page_source\n",
    "    #print(html)\n",
    "\n",
    "    bs = BeautifulSoup(html, 'html.parser') \n",
    "    a = bs.findAll(\"a\", {\"id\":\"thumbnail\"})\n",
    "    count = 0\n",
    "\n",
    "    for af in a:\n",
    "        if count < 10:\n",
    "            print(n)\n",
    "\n",
    "            print('https://www.youtube.com' + af['href'])\n",
    "            count += 1\n",
    "            n += 1\n",
    "            val.append(af['href'])\n",
    "        else:\n",
    "            break\n",
    "            \n",
    "    #driver.close()\n",
    "    \n",
    "    dic[i] = val\n",
    "#print(dic)    \n",
    "    \n",
    "print('ㅡ * ㅡ' * 10)"
   ]
  },
  {
   "cell_type": "code",
   "execution_count": 39,
   "metadata": {
    "tags": [
     "outputPrepend"
    ]
   },
   "outputs": [
    {
     "output_type": "stream",
     "name": "stdout",
     "text": "숙성 통삼겹살 170g : 17,000원\\n             숙성 통목살 170g : 17,000원\\n   *참숯 + 가스착화식 / 안데스 소금\\n   *추천메뉴 : 목살\\n\\n\\n\\n#서울삼겹살맛집\\n#서울목살맛집\\n#서울돼지고기맛집'], ['백종원이 인정한 삼겹살 맛집?! 인천 지역 최고의 생갈비+삼겹살 식당을 소개합니다', '하얀트리HayanTree', 381264, '하얀트리의 모든 것 : https://hayantree.com/\\r\\n - 제가 직접 사용하는 제품들을 모아둔 곳이랍니다!\\r\\n   모니터, 카메라 등등 다이어트 할때 먹는 음식들을 공유하고 있어요!\\r\\n\\r\\n🥩-----\\r\\n#부암갈비 #삼겹살 #인천맛집 #인천삼겹살 #갈비살 #갈비 #Mukbang\\r\\n#백종원 #극찬 #인정\\r\\n🍖-----\\r\\n*본 영상은 광고와 협찬 사실이 없음을 알려드리며\\r\\n 제가 직접 알아보고 선정하여 다녀온 식당입니다.\\r\\n*방문 전에 식당에 대한 정보를 충분히 알아보시고\\r\\n스스로의 기준에 맞춰 찾아가보시는걸 추천드립니다.\\r\\n\\r\\n🥪-----\\r\\n☆하얀트리 채널에 오신걸 환영합니다!\\r\\n * 세상 모든 식당을 소개하는 음식탐험가입니다!\\r\\n ＊업로드요일 : 월, 금\\r\\n     업로드 시간 : 오후 6시\\r\\n     (정말 가끔 수요일 혹은 주말에 보너스 영상이 올라온답니다)\\r\\n  * 광고&협찬 문의 : limms923@gmail.com\\r\\n  * 편지 보내는 곳 : 서울특별시 강남구 테헤란로 518 15층 샌드박스 \"하얀트리\" \\r\\n\\r\\n🍰-----\\r\\n\\r\\n자막 템플릿 : 론박자막연구소\\r\\n\\r\\n영상 음원'], ['서울 3대 삼겹살 [서울 역삼동 맛집]', '정육왕 MeatCreator', 225079, '그럼 나머지 두곳은 어디인가요!?\\n#정육왕 #육전식당 #서울3대삼겹살\\n--------------------------------------------------------------------------\\n✔️참고사항\\n모든 식당은 전문 소견으로 중립에서 리뷰 합니다.\\n식당은 모든 개개인의 입맛을 맞출 수 없습니다.\\n영상은 참고만 하시길 바랍니다.\\n개인이 선호하는 스타일의 식당을 방문하시길 바랍니다.\\n---------------------------------------------------------------------------\\n✔️본 영상은 협찬 해당사항이 없습니다.\\n또한 개인적인 제작비를 받지 않았음을 알려드립니다.\\n----------------------------------------------------------------------------\\n✔️협찬은 방문 전 충분히 다방면으로 검토 후 판단하여 촬영하며\\n모든 리뷰는 업체와 협의 없이 제 생각과 경험만을 사실 그대로 전달합니다.\\n--------------------------------------------------------------------------------------------------\\n[✔️페이스북 * Facebook] \\nhttps://www.facebook.com/meat.creator\\n\\n[✔️인스타그램 * Instagram]\\nhttps://www.instagram.com/meat.creator/\\n\\n[✔️네이버 블로그 * Naver blog ]\\nhttps://blog.naver.com/zzanggem\\n--------------------------------------------------------------------------------------------------\\n[✔️기타 문의]\\nKakaotalk - Sioriz\\nEmail - zzanggem@naver.com\\n--------------------------------------------------------------------------------------------------\\nMUSIC\\nwaves by joakim karud'], ['5000원에 먹는 삼겹살?!! 최저가 미친 가성비 삼겹살 맛집을 찾았습니다!', '하얀트리HayanTree', 430035, '🌱본 영상은 수입식당으로 부터 광고 의뢰를 받아 제작한 광고 영상입니다!🌱 \\n\\n* 수입식당\\n - 서울 강남구 논현로79길 62\\n - 냉동삼겹살 1인분 150g 5,000원\\n - 차돌박이 1인분 150g 9,900원\\n - 깻잎육회 12,000원\\n - 수제돈까스 6,000원\\n\\n\\n🍀하얀트리 멤버십 가입하기🍀\\nhttps://www.youtube.com/channel/UCqbpna45EO7qaARGv2vgjkg/join\\n\\n🍉심심해서 만든 하얀트리 쇼핑몰🍉\\nhttps://hayantree.com/\\n - 제가 직접 사용하는 제품들을 모아둔 곳이랍니다!\\n   모니터, 카메라 등등 다이어트 할때 먹는 음식들을 공유하고 있어요!\\n\\n🥩-----\\n#삼겹살 #냉동삼겹살 #수입식당 #강남맛집 #삼겹살맛집 #Mukbang\\n\\n🍖-----\\n*본 영상은 수입식당으로 부터 광고 의뢰를 받아 제작한 영상입니다!\\n*방문 전에 식당에 대한 정보를 충분히 알아보시고\\n스스로의 기준에 맞춰 찾아가보시는걸 추천드립니다.\\n\\n🥪-----\\n☆하얀트리 채널에 오신걸 환영합니다!\\n * 세상 모든 식당을 소개하는 음식탐험가입니다!\\n ＊업로드요일 : 월, 금\\n     업로드 시간 : 오후 5시\\n     (정말 가끔 수요일 혹은 주말에 보너스 영상이 올라온답니다)\\n  * 광고&협찬 문의 : limms923@gmail.com\\n  * 편지 보내는 곳 : 서울특별시 강남구 테헤란로 518 15층 샌드박스 \"하얀트리\" \\n\\n🍰-----\\n\\n자막 템플릿 : 론박자막연구소\\n\\n영상 음원'], ['독보적인 가성비와 맛! 인생 최고의 냉동삼겹살 맛집', '빅페이스TV', 244509, '빅페이스 인스타그램▶ https://www.instagram.com/bigfacetv/\\n빅페이스이메일▶  bigfacetv@naver.com'], ['국내 최고로 평가받는 냉동삼겹살 맛집', '빅페이스TV', 361150, '빅페이스 인스타그램▶ https://www.instagram.com/bigfacetv/\\n빅페이스이메일▶  bigfacetv@naver.com'], [\"ENG) 방탄소년단 정국이 3개월 연속 갔던 삼겹살 맛집?! BTS' Favorite Restaurant Is On Michelin Guide?!\", '안구정화TV, Your Korean Friend', 1084778, \"방탄소년단 BTS가 한달 전에도 갔었던 최애 삼겹살집, 금돼지 식당에 갔다왔어요! 알고보니 방탄소년단을 비롯한 많은 연예인들, 신세계 회장님도 좋아하는 미슐랭가이드 맛집이었어요..ㄷㄷ 솔직한 리얼 후기입니다! (광고아님)\\n\\n#금돼지식당 #미슐랭가이드 #방탄소년단\\n\\nBTS' favorite pork bbq restaurant is on Michelin Guide now! BTS members, especially Jungkook loves this place! BTS visited Golden Pig restaurant in Seoul 4 times last year and they even came there a month ago! Let's go find out what's so special about that place and why BTS fell in love with their food!\\n\\n📹Camera: Sony a7m3, GoPro 6\\n🖥Edit : Premiere Pro CC\\n📌Instagram: @__angoo\\n💜Twitter: @__angoo\\n💌E-mail : veronica.kdrama@gmail.com\"], ['★강북최고맛집★ 구글평점 4.5!! 강북 삼겹살 맛집 TOP4!! (수요미식회, 골목식당, 맛있는녀석들, 서울삼겹살맛집,  육전식당, 화포식당, 들창코, 도꼬정, 서울맛집)', '강북 미식회', 7868, '★ 강북 삼겹살맛집 총정리 ★\\n안녕하세요. 강북미식회에 오신것을 환영합니다.\\n\\n오늘 소개해 드릴 음식은 너무나 많은 분들이 좋아하시는 메뉴죠? \\n육즙이 가득하고 지방의 풍미가 살아있는~ 국민안주 삼겹살…!!\\n\\n수요미식회에도 나왔던 최고의 삼겹살집을 포함해서\\n서울의 4대 삼겹살 맛집에 대해서도 알아볼께요^^\\n\\n1. 신설동 육전식당 (최고의 육즙!!)\\n서울특별시 동대문구 용신동 난계로30길 16\\n\\n2. 화포식당 (합리적가격, 다양하게 맛보는 재미)\\n프렌차이즈 (방문한곳은 길음뉴타운 지점)\\n\\n3. 마장동 들창코 (가격과 서비스최고)\\n서울특별시 성동구 마장동 777-7\\n\\n4. 길음동 도꼬정 (제주도 김치삼겹살 동네맛집)\\n서울특별시 성북구 길음2동 1125-7\\n\\n좋은정보 되셨다면 구독. 좋아요,알람 부탁드립니다^^\\n\\n★ 강북미식회 유튜브링크    \\nhttps://www.youtube.com/channel/UCenAEwDM8mz4ImDu-2JM7jQ?sub_confirmation=1\\n\\n★ 네이버 밴드모임 (고독한 식탐맨 맛집모임 & 벙개)\\nhttps://band.us/@koreanfoodtrip\\n\\n★ 네이버 블로그 (고독한 식탐맨 블로그)\\nhttps://blog.naver.com/robertokang'], ['eng)당신이 지금까지 먹던 삼겹살은 가짜였다?!(The Best Pork BBQ in Seoul Korea) - 인사동맛집 853 삼겹살맛집 팔오삼', '먹선생', 557, '인사동에서 먹은 뇌를 때리는듯한 존맛탱 삼겹살 853입니다'], ['욕쟁이 할머니의 삼겹살 맛집, 운문식당 25년 역사 [대구 맛집], [대구 형제]', '대구형제_대구맛집', 3721, \"오늘 대구 맛집 영상은 예전에 찍었던 대구 삼겹살 맛집 '운문식당'입니다!\\n지인의 소개로 알게된 대구 맛집으로 사장님이 욕쟁이 할머니로 많이 알려져있더라구요 .\\n하지만 막상 가보니 욕쟁이 할머니라기 보다는 퉁명스럽지만 정 많은 경상도\\n할머니셨습니다. 덕분에 웃으면서 맛있게 식사할 수 있었어요!\\n25년 전통으로 단골들이 줄서는 대구 삼겹살 맛집입니다.\\n젊은이들은 잘 모르는 맛집!\\n큼직큼직한 삼겹살과 포기째 주는 김치가 일품입니다. \\n\\n*150g 7,000원이지만 현급 결제, 계좌이체시 200g 7,000원이니 꼭 기억하기!\\n\\n위치: 대구 달서구 감삼남길 30\\n\\n메뉴:  *생삼겹살 7,000원 뼈없는닭발 15,000원 돼지껍데기10,000원\\n돼지찌개 20,000원  *돼지두루치기 10,000원\\n*표시된 메뉴가 추천 메뉴입니다.\\n\\n대구 맛집, 대구 삼겹살 맛집, 운문식당\"], ['홍진영 보증하는 10년 단골 곱창집! | 수요미식회 곱창 Gopchang Tripes Wednesday Foodtalk', 'Olive', 397969, '곱창구이에 한우 된장밥은 진리 아니겠습니까...?\\n아 배고파ㅏㅏㅏ\\n\\n#수요미식회 #레전드맛집 #KFOOD\\n------------------------------------------------------------------\\n ▶[수요미식회] 최신 클립 다시보기 : http://www.tving.com/smr/vod/player/P/C01_B120144822?from=youtube\\n------------------------------------------------------------------'], ['요즘 제일 핫한 서울 소곱창 맛집 8곳', 'Pikicast피키캐스트', 68916, '요즘 제일 핫한 서울 소곱창 맛집 8곳\\n\\n요즘 없어서 못 먹는다는 소곱창!!\\n곱창 열풍에 동참해볼까??\\n\\n1.먹거리 양곱창 : 서초구 강남대로99길 35\\n2.대파양곱창 : 강남구 역삼로63길 14\\n3.대한곱창 : 동대문구 천호대로85길 21 동원빌딩\\n4.신촌황소곱창 : 서대문구 연세로9길 31\\n5.우정양곱창 : 강남구 도산대로30길 23\\n6.함지곱창 : 강남구 학동로2길 33\\n7.황주집 : 강북구 도봉로 372\\n8.강수돌곱창 :  마포구 와우산로21길 36-12\\n\\n더 많은 여행기가 궁금하다면 페이스북 페이지로!(❛ᴗ❛)\\n☛ http://bit.ly/2vONqKF\\n\\n여러분의 여행기를 제보하고 싶다면 페이스북 그룹으로 (ﾉ･ｪ･)ﾉ\\n☛ on.fb.me/1M30Che'], ['서울 곱창 맛집 양대산맥 TOP 2 전격비교 (소곱창 종결 ㅣ 곱창전골 ㅣ곱창집 추천 ㅣ 한우곱창 구이)', '술맛여행놈', 893, '서울 곱창 맛집 양대산맥 TOP 2 전격비교 (소곱창 종결 ㅣ 곱창전골 ㅣ곱창집 추천 ㅣ 한우곱창 구이)\\n\\n이메일 : kkiibbb@naver.com \\n인스타 : @sbong333\\n\\n봉천동 황소곱창\\n서울 관악구 관악로15길 39\\n02-875-7622\\n\\n\\n장가네곱창 \\n서울 마포구 토정로 290\\n02-717-2425\\n\\n약간의 가격 변동은 있을 수 있습니다. \\n\\n영상 봐주셔서 대단히 감사합니다. \\n\\n\\n술쟁이가 추천하는 제주도 맛집 무려 TOP 33\\nhttps://youtu.be/0asc3wy8_K0\\n\\n\\n술쟁이가 엄선한 현지인 부산 맛집 추천 BEST 11\\nhttps://youtu.be/c2IDjYi5Pf8\\n\\n\\n맛있는 여름휴가를 책임져줄 현지인 추천 속초 맛집 BEST 6\\nhttps://youtu.be/W355hV_5Lug\\n\\n\\n#곱창맛집 #소곱창맛집 #곱창전골 #곱창 #소곱창'], ['화사 곱창 맛집 저리가! 리얼 3대 곱창 맛집 | Wednesday Foodtalk Tripe', 'Olive', 13956, '화사가 추천한 곱창 맛집은 저리가라!\\n진짜 곱창 3대 맛집이 있다는데?\\n다시 꽉 차오르는 곱이 리얼이라구??\\n당장 가봐야할 맛집을 소개합니다!\\n\\n#수요미식회\\n5/28 (화) 저녁 8시 50분 Olive 첫 방송'], [\"[백종원의 골목식당] 'SNS 평판 1위! 변함없는 서산 곱창집!' / 'Backstreet' Special | SBS NOW\", 'SBS NOW / SBS 공식 채널', 1355635, '흔들리는 곱창 속에서~ 네 샴푸 향이 느껴진 거야~\\n이랬던 곱창집이 SNS 평판 1위로!\\n+ 변함없는 사장님 부부♥\\n\\n백종원의 골목식당 OPEN✔\\n☞ 매주 수요일 밤 11시 10분 본방송\\n\\n#골목식당 #서산 #곱창\\n\\n▶ Subscribe NOW! SBS NOW!  https://bit.ly/2YRf9Kn\\n▶ Homepage :  http://programs.sbs.co.kr/enter/street\\n▶ Facebook :  https://www.facebook.com/sbsnow/\\n▶ Instagram : https://www.instagram.com/sbsnow_insta/'], ['곱창 맛집 찾으세요? 이 영상으로 끝내드립니다. 삼성전자 회식의 명소라는 곱창집을 가봤습니다.  suwon Giblets  [수원맛집]', 'LIMCEO 임대표의 맛집탐방', 25447, '이메일 주소\\n• limcommceo@gmail.com\\n\\n후원\\n• https://toon.at/donate/636907424122084430'], ['혜리 Vlog | 곱창 맛집 뽀개고 흑당밀크티 영업당함', '혜리', 4262354, '드디어 기다리고 기다리던 걸스데이 완전체!\\n민아언니가 소개한 곱창 맛집부터 소진언니 최애 흑당밀크티까지, \\n먹고 먹고 또 먹는 걸스데이 먹방 시작합니다!\\n\\n[Hyeri Official page]\\nHomepage : http://www.creativegrouping.com\\nInstagram : https://instagram.com/hyeri.official\\nV : https://www.vlive.tv/channels/B4A951\\nWeibo : https://weibo.com/u/5985423938\\n\\n#혜리 #hyeri #나는이혜리 #Vlog #걸스데이 #곱창 #흑당버블티 #먹방'], ['왕십리 제일곱창, 서울에서 제일 핫한 2시간 웨이팅 소곱창 맛집 -[지하철 맛집투어 왕십리역] / VLOG 맛집 브이로그', '주말엔산책', 7719, '한여름 무더위에도 2시간 웨이팅이 기본.\\n서울 최고 인기 소곱창집, 왕십리 제일곱창.\\n\\n이번주 맛집탐방은\\n왕십리 하면 곱창, 곱창하면 제일곱창이라는 말이 있을 정도로\\n곱창으로 핫한 왕십리에서도 가~~~장핫한 제일곱창을 다녀왔어요.\\n\\n2시간 기다리는게 정말 힘들었지만..\\n맛은 그래도 인정!\\n\\n한우 곱창 : 22,000원 / 250g\\n한우 대창 : 21,000원 / 210g\\n양깃 머리 : 25,000원 / 180g\\n모듬 구이 : 51,000원 / 580g\\n볶음밥 3,000원 / 라면사리 3,000원\\n\\n주의하실 점은, 먹다가 중간에 구이류(곱창,대창,모듬 등) 추가가 안된다는 점! 처음부터 먹을만치 시키세요!\\n참고로 양이 적어서 2명이 가면 3인분은 기본으로 시키는걸 추천!\\n\\n**구독과 좋아요, 그리고 댓글로 맛집 추천도 부탁드려요!\\n\\n#bobblessu #맛집탐방 #제일곱창 #왕십리 #곱창'], [\"화사가 추천한 '그' 곱창집 직접가보았습니다 *고텐션주의*\", '엠브로 MBRO', 1008916, '엠브로 업로드 시간 - 10시 30분 - 12 시 30분 \\n심야 3편 야외 2편 심야 1편 업로드입니다 \\n주1회는 휴방입니다\\n영상을 시청하시기전에 \\n구독과 좋아요 부탁드립니다.\\n크리에이터에게 큰 힘이됩니다 ! \\n또한 긍정적인 댓글또한 큰 힘이됩니다 ! \\n인스타그램 눈팅용 계정이지만 팔로우 해주시면 감사합니다.\\n인스타그램 : https://www.instagram.com/monsterbrothers.mbro\\n광고문의는 아래의 메일로 보내주시면 감사합니다\\n광고 문의 : mbro7@naver.com\\n영상의 협업 유무 □']]\n[['서울 삼겹살 맛집 베스트 5', '토토로그', 45645, '*********** 전국 맛집 베스트 재생목록 ***************\\nhttps://www.youtube.com/watch?v=YDw6JZEzB5M&list=PLq5XYv6wJ2XC588_ge38IHWAxt7m8Ojz9\\n\\n\\n서울에서 손꼽히는 삼겹살 목살 맛집들을 다녀왔습니다\\n맛평가는 지극히 주관적이다 보니 재미있게 봐주셨으면 합니다\\n다들 워낙 유명한 집이라, 어느 시간대나 거의 기다림이 있어야 할 듯 합니다\\n\\n개인적으로 \\n불맛과 맛은 금돼지식당의 등목살\\n목살은 땅코참숯구이와 화포식당\\n삼겹살은 육전식당과 금돼지식당\\n찬의 구성과 맛은 일미락을 꼽고 싶네요\\n\\n\\n\\n1. 금돼지식당\\n   위  치 : 서울 중구 다산로 149\\n   전  화 : 010-4484-8750\\n   시  간 : 평일 12:00 - 01:00\\n             주말 12:00 - 24:00 / 브레이크타임 15:00~16:00\\n   주  차 : 주차장 없음\\n   메  뉴 : 본삼겹 170g : 16,000원\\n             등목살 170g : 17,000원 (한정판매)\\n   *연탄불 / 영국 이스트해안가 말돈 지방 황실소금 / 직원분이 구워줌 , 등목살의 경우 첫 점만 구워줌\\n   *추천메뉴 : 등목살\\n\\n\\n2. 땅코참숯구이 본점\\n   위  치 : 서울 성동구 행당로17길 26\\n   전  화 : 02-2281-6908\\n   시  간 : 매일 16:00 - 24:00\\n   주  차 : 주차장 없음\\n   메  뉴 : 삼겹살 200g : 17,000원\\n             목살 200g : 17,000원\\n   *참숯 / 천일염 (후추+고추가루+통참깨) / 직원분이 모두 구워줌\\n   *추천메뉴 : 목살\\n\\n\\n3. 육전식당 1호점\\n   위  치 : 서울 동대문구 난계로30길 16\\n   전  화 : 02-2253-6373\\n   시  간 : 매일 11:00 - 23:00 / Break time 15:00~16:00 / 명절휴무\\n   주  차 : 가게 앞 3-4대 가능\\n   메  뉴 : 통삼겹살 150g : 15,000원\\n             통목살 150g : 15,000원\\n   *숯 + 가스착화식 / 안데스 암염\\n   *추천메뉴 : 삼겹살\\n\\n\\n4. 일미락\\n   위  치 : 서울 양천구 목동동로 226-16\\n   전  화 : 02-2642-9292\\n   시  간 : 평일 12:00~24:00 연중무휴\\n  일요일 12:00~22:00\\n   주  차 : 주차장 없음\\n   메  뉴 : 통삼겹살 180g : 17,000원\\n             통목살 180g : 17,000원\\n   *숯 + 가스착화식 / 히말라야 핑크 암염\\n   *추천메뉴 : 삼겹살\\n\\n\\n5. 화포식당\\n   위  치 : 서울 마포구 마포대로1길 16\\n   전  화 : 02-702-0708\\n   시  간 : 매일 11:30 - 23:00 / Break Time(평일): 15:00~17:00\\n   주  차 : 주차장 없음 / 바로 앞 공영주차장\\n   메  뉴 : 숙성 통삼겹살 170g : 17,000원\\n             숙성 통목살 170g : 17,000원\\n   *참숯 + 가스착화식 / 안데스 소금\\n   *추천메뉴 : 목살\\n\\n\\n\\n#서울삼겹살맛집\\n#서울목살맛집\\n#서울돼지고기맛집'], ['백종원이 인정한 삼겹살 맛집?! 인천 지역 최고의 생갈비+삼겹살 식당을 소개합니다', '하얀트리HayanTree', 381264, '하얀트리의 모든 것 : https://hayantree.com/\\r\\n - 제가 직접 사용하는 제품들을 모아둔 곳이랍니다!\\r\\n   모니터, 카메라 등등 다이어트 할때 먹는 음식들을 공유하고 있어요!\\r\\n\\r\\n🥩-----\\r\\n#부암갈비 #삼겹살 #인천맛집 #인천삼겹살 #갈비살 #갈비 #Mukbang\\r\\n#백종원 #극찬 #인정\\r\\n🍖-----\\r\\n*본 영상은 광고와 협찬 사실이 없음을 알려드리며\\r\\n 제가 직접 알아보고 선정하여 다녀온 식당입니다.\\r\\n*방문 전에 식당에 대한 정보를 충분히 알아보시고\\r\\n스스로의 기준에 맞춰 찾아가보시는걸 추천드립니다.\\r\\n\\r\\n🥪-----\\r\\n☆하얀트리 채널에 오신걸 환영합니다!\\r\\n * 세상 모든 식당을 소개하는 음식탐험가입니다!\\r\\n ＊업로드요일 : 월, 금\\r\\n     업로드 시간 : 오후 6시\\r\\n     (정말 가끔 수요일 혹은 주말에 보너스 영상이 올라온답니다)\\r\\n  * 광고&협찬 문의 : limms923@gmail.com\\r\\n  * 편지 보내는 곳 : 서울특별시 강남구 테헤란로 518 15층 샌드박스 \"하얀트리\" \\r\\n\\r\\n🍰-----\\r\\n\\r\\n자막 템플릿 : 론박자막연구소\\r\\n\\r\\n영상 음원'], ['서울 3대 삼겹살 [서울 역삼동 맛집]', '정육왕 MeatCreator', 225079, '그럼 나머지 두곳은 어디인가요!?\\n#정육왕 #육전식당 #서울3대삼겹살\\n--------------------------------------------------------------------------\\n✔️참고사항\\n모든 식당은 전문 소견으로 중립에서 리뷰 합니다.\\n식당은 모든 개개인의 입맛을 맞출 수 없습니다.\\n영상은 참고만 하시길 바랍니다.\\n개인이 선호하는 스타일의 식당을 방문하시길 바랍니다.\\n---------------------------------------------------------------------------\\n✔️본 영상은 협찬 해당사항이 없습니다.\\n또한 개인적인 제작비를 받지 않았음을 알려드립니다.\\n----------------------------------------------------------------------------\\n✔️협찬은 방문 전 충분히 다방면으로 검토 후 판단하여 촬영하며\\n모든 리뷰는 업체와 협의 없이 제 생각과 경험만을 사실 그대로 전달합니다.\\n--------------------------------------------------------------------------------------------------\\n[✔️페이스북 * Facebook] \\nhttps://www.facebook.com/meat.creator\\n\\n[✔️인스타그램 * Instagram]\\nhttps://www.instagram.com/meat.creator/\\n\\n[✔️네이버 블로그 * Naver blog ]\\nhttps://blog.naver.com/zzanggem\\n--------------------------------------------------------------------------------------------------\\n[✔️기타 문의]\\nKakaotalk - Sioriz\\nEmail - zzanggem@naver.com\\n--------------------------------------------------------------------------------------------------\\nMUSIC\\nwaves by joakim karud'], ['5000원에 먹는 삼겹살?!! 최저가 미친 가성비 삼겹살 맛집을 찾았습니다!', '하얀트리HayanTree', 430035, '🌱본 영상은 수입식당으로 부터 광고 의뢰를 받아 제작한 광고 영상입니다!🌱 \\n\\n* 수입식당\\n - 서울 강남구 논현로79길 62\\n - 냉동삼겹살 1인분 150g 5,000원\\n - 차돌박이 1인분 150g 9,900원\\n - 깻잎육회 12,000원\\n - 수제돈까스 6,000원\\n\\n\\n🍀하얀트리 멤버십 가입하기🍀\\nhttps://www.youtube.com/channel/UCqbpna45EO7qaARGv2vgjkg/join\\n\\n🍉심심해서 만든 하얀트리 쇼핑몰🍉\\nhttps://hayantree.com/\\n - 제가 직접 사용하는 제품들을 모아둔 곳이랍니다!\\n   모니터, 카메라 등등 다이어트 할때 먹는 음식들을 공유하고 있어요!\\n\\n🥩-----\\n#삼겹살 #냉동삼겹살 #수입식당 #강남맛집 #삼겹살맛집 #Mukbang\\n\\n🍖-----\\n*본 영상은 수입식당으로 부터 광고 의뢰를 받아 제작한 영상입니다!\\n*방문 전에 식당에 대한 정보를 충분히 알아보시고\\n스스로의 기준에 맞춰 찾아가보시는걸 추천드립니다.\\n\\n🥪-----\\n☆하얀트리 채널에 오신걸 환영합니다!\\n * 세상 모든 식당을 소개하는 음식탐험가입니다!\\n ＊업로드요일 : 월, 금\\n     업로드 시간 : 오후 5시\\n     (정말 가끔 수요일 혹은 주말에 보너스 영상이 올라온답니다)\\n  * 광고&협찬 문의 : limms923@gmail.com\\n  * 편지 보내는 곳 : 서울특별시 강남구 테헤란로 518 15층 샌드박스 \"하얀트리\" \\n\\n🍰-----\\n\\n자막 템플릿 : 론박자막연구소\\n\\n영상 음원'], ['독보적인 가성비와 맛! 인생 최고의 냉동삼겹살 맛집', '빅페이스TV', 244509, '빅페이스 인스타그램▶ https://www.instagram.com/bigfacetv/\\n빅페이스이메일▶  bigfacetv@naver.com'], ['국내 최고로 평가받는 냉동삼겹살 맛집', '빅페이스TV', 361150, '빅페이스 인스타그램▶ https://www.instagram.com/bigfacetv/\\n빅페이스이메일▶  bigfacetv@naver.com'], [\"ENG) 방탄소년단 정국이 3개월 연속 갔던 삼겹살 맛집?! BTS' Favorite Restaurant Is On Michelin Guide?!\", '안구정화TV, Your Korean Friend', 1084778, \"방탄소년단 BTS가 한달 전에도 갔었던 최애 삼겹살집, 금돼지 식당에 갔다왔어요! 알고보니 방탄소년단을 비롯한 많은 연예인들, 신세계 회장님도 좋아하는 미슐랭가이드 맛집이었어요..ㄷㄷ 솔직한 리얼 후기입니다! (광고아님)\\n\\n#금돼지식당 #미슐랭가이드 #방탄소년단\\n\\nBTS' favorite pork bbq restaurant is on Michelin Guide now! BTS members, especially Jungkook loves this place! BTS visited Golden Pig restaurant in Seoul 4 times last year and they even came there a month ago! Let's go find out what's so special about that place and why BTS fell in love with their food!\\n\\n📹Camera: Sony a7m3, GoPro 6\\n🖥Edit : Premiere Pro CC\\n📌Instagram: @__angoo\\n💜Twitter: @__angoo\\n💌E-mail : veronica.kdrama@gmail.com\"], ['★강북최고맛집★ 구글평점 4.5!! 강북 삼겹살 맛집 TOP4!! (수요미식회, 골목식당, 맛있는녀석들, 서울삼겹살맛집,  육전식당, 화포식당, 들창코, 도꼬정, 서울맛집)', '강북 미식회', 7868, '★ 강북 삼겹살맛집 총정리 ★\\n안녕하세요. 강북미식회에 오신것을 환영합니다.\\n\\n오늘 소개해 드릴 음식은 너무나 많은 분들이 좋아하시는 메뉴죠? \\n육즙이 가득하고 지방의 풍미가 살아있는~ 국민안주 삼겹살…!!\\n\\n수요미식회에도 나왔던 최고의 삼겹살집을 포함해서\\n서울의 4대 삼겹살 맛집에 대해서도 알아볼께요^^\\n\\n1. 신설동 육전식당 (최고의 육즙!!)\\n서울특별시 동대문구 용신동 난계로30길 16\\n\\n2. 화포식당 (합리적가격, 다양하게 맛보는 재미)\\n프렌차이즈 (방문한곳은 길음뉴타운 지점)\\n\\n3. 마장동 들창코 (가격과 서비스최고)\\n서울특별시 성동구 마장동 777-7\\n\\n4. 길음동 도꼬정 (제주도 김치삼겹살 동네맛집)\\n서울특별시 성북구 길음2동 1125-7\\n\\n좋은정보 되셨다면 구독. 좋아요,알람 부탁드립니다^^\\n\\n★ 강북미식회 유튜브링크    \\nhttps://www.youtube.com/channel/UCenAEwDM8mz4ImDu-2JM7jQ?sub_confirmation=1\\n\\n★ 네이버 밴드모임 (고독한 식탐맨 맛집모임 & 벙개)\\nhttps://band.us/@koreanfoodtrip\\n\\n★ 네이버 블로그 (고독한 식탐맨 블로그)\\nhttps://blog.naver.com/robertokang'], ['eng)당신이 지금까지 먹던 삼겹살은 가짜였다?!(The Best Pork BBQ in Seoul Korea) - 인사동맛집 853 삼겹살맛집 팔오삼', '먹선생', 557, '인사동에서 먹은 뇌를 때리는듯한 존맛탱 삼겹살 853입니다'], ['욕쟁이 할머니의 삼겹살 맛집, 운문식당 25년 역사 [대구 맛집], [대구 형제]', '대구형제_대구맛집', 3721, \"오늘 대구 맛집 영상은 예전에 찍었던 대구 삼겹살 맛집 '운문식당'입니다!\\n지인의 소개로 알게된 대구 맛집으로 사장님이 욕쟁이 할머니로 많이 알려져있더라구요 .\\n하지만 막상 가보니 욕쟁이 할머니라기 보다는 퉁명스럽지만 정 많은 경상도\\n할머니셨습니다. 덕분에 웃으면서 맛있게 식사할 수 있었어요!\\n25년 전통으로 단골들이 줄서는 대구 삼겹살 맛집입니다.\\n젊은이들은 잘 모르는 맛집!\\n큼직큼직한 삼겹살과 포기째 주는 김치가 일품입니다. \\n\\n*150g 7,000원이지만 현급 결제, 계좌이체시 200g 7,000원이니 꼭 기억하기!\\n\\n위치: 대구 달서구 감삼남길 30\\n\\n메뉴:  *생삼겹살 7,000원 뼈없는닭발 15,000원 돼지껍데기10,000원\\n돼지찌개 20,000원  *돼지두루치기 10,000원\\n*표시된 메뉴가 추천 메뉴입니다.\\n\\n대구 맛집, 대구 삼겹살 맛집, 운문식당\"], ['홍진영 보증하는 10년 단골 곱창집! | 수요미식회 곱창 Gopchang Tripes Wednesday Foodtalk', 'Olive', 397969, '곱창구이에 한우 된장밥은 진리 아니겠습니까...?\\n아 배고파ㅏㅏㅏ\\n\\n#수요미식회 #레전드맛집 #KFOOD\\n------------------------------------------------------------------\\n ▶[수요미식회] 최신 클립 다시보기 : http://www.tving.com/smr/vod/player/P/C01_B120144822?from=youtube\\n------------------------------------------------------------------'], ['요즘 제일 핫한 서울 소곱창 맛집 8곳', 'Pikicast피키캐스트', 68916, '요즘 제일 핫한 서울 소곱창 맛집 8곳\\n\\n요즘 없어서 못 먹는다는 소곱창!!\\n곱창 열풍에 동참해볼까??\\n\\n1.먹거리 양곱창 : 서초구 강남대로99길 35\\n2.대파양곱창 : 강남구 역삼로63길 14\\n3.대한곱창 : 동대문구 천호대로85길 21 동원빌딩\\n4.신촌황소곱창 : 서대문구 연세로9길 31\\n5.우정양곱창 : 강남구 도산대로30길 23\\n6.함지곱창 : 강남구 학동로2길 33\\n7.황주집 : 강북구 도봉로 372\\n8.강수돌곱창 :  마포구 와우산로21길 36-12\\n\\n더 많은 여행기가 궁금하다면 페이스북 페이지로!(❛ᴗ❛)\\n☛ http://bit.ly/2vONqKF\\n\\n여러분의 여행기를 제보하고 싶다면 페이스북 그룹으로 (ﾉ･ｪ･)ﾉ\\n☛ on.fb.me/1M30Che'], ['서울 곱창 맛집 양대산맥 TOP 2 전격비교 (소곱창 종결 ㅣ 곱창전골 ㅣ곱창집 추천 ㅣ 한우곱창 구이)', '술맛여행놈', 893, '서울 곱창 맛집 양대산맥 TOP 2 전격비교 (소곱창 종결 ㅣ 곱창전골 ㅣ곱창집 추천 ㅣ 한우곱창 구이)\\n\\n이메일 : kkiibbb@naver.com \\n인스타 : @sbong333\\n\\n봉천동 황소곱창\\n서울 관악구 관악로15길 39\\n02-875-7622\\n\\n\\n장가네곱창 \\n서울 마포구 토정로 290\\n02-717-2425\\n\\n약간의 가격 변동은 있을 수 있습니다. \\n\\n영상 봐주셔서 대단히 감사합니다. \\n\\n\\n술쟁이가 추천하는 제주도 맛집 무려 TOP 33\\nhttps://youtu.be/0asc3wy8_K0\\n\\n\\n술쟁이가 엄선한 현지인 부산 맛집 추천 BEST 11\\nhttps://youtu.be/c2IDjYi5Pf8\\n\\n\\n맛있는 여름휴가를 책임져줄 현지인 추천 속초 맛집 BEST 6\\nhttps://youtu.be/W355hV_5Lug\\n\\n\\n#곱창맛집 #소곱창맛집 #곱창전골 #곱창 #소곱창'], ['화사 곱창 맛집 저리가! 리얼 3대 곱창 맛집 | Wednesday Foodtalk Tripe', 'Olive', 13956, '화사가 추천한 곱창 맛집은 저리가라!\\n진짜 곱창 3대 맛집이 있다는데?\\n다시 꽉 차오르는 곱이 리얼이라구??\\n당장 가봐야할 맛집을 소개합니다!\\n\\n#수요미식회\\n5/28 (화) 저녁 8시 50분 Olive 첫 방송'], [\"[백종원의 골목식당] 'SNS 평판 1위! 변함없는 서산 곱창집!' / 'Backstreet' Special | SBS NOW\", 'SBS NOW / SBS 공식 채널', 1355635, '흔들리는 곱창 속에서~ 네 샴푸 향이 느껴진 거야~\\n이랬던 곱창집이 SNS 평판 1위로!\\n+ 변함없는 사장님 부부♥\\n\\n백종원의 골목식당 OPEN✔\\n☞ 매주 수요일 밤 11시 10분 본방송\\n\\n#골목식당 #서산 #곱창\\n\\n▶ Subscribe NOW! SBS NOW!  https://bit.ly/2YRf9Kn\\n▶ Homepage :  http://programs.sbs.co.kr/enter/street\\n▶ Facebook :  https://www.facebook.com/sbsnow/\\n▶ Instagram : https://www.instagram.com/sbsnow_insta/'], ['곱창 맛집 찾으세요? 이 영상으로 끝내드립니다. 삼성전자 회식의 명소라는 곱창집을 가봤습니다.  suwon Giblets  [수원맛집]', 'LIMCEO 임대표의 맛집탐방', 25447, '이메일 주소\\n• limcommceo@gmail.com\\n\\n후원\\n• https://toon.at/donate/636907424122084430'], ['혜리 Vlog | 곱창 맛집 뽀개고 흑당밀크티 영업당함', '혜리', 4262354, '드디어 기다리고 기다리던 걸스데이 완전체!\\n민아언니가 소개한 곱창 맛집부터 소진언니 최애 흑당밀크티까지, \\n먹고 먹고 또 먹는 걸스데이 먹방 시작합니다!\\n\\n[Hyeri Official page]\\nHomepage : http://www.creativegrouping.com\\nInstagram : https://instagram.com/hyeri.official\\nV : https://www.vlive.tv/channels/B4A951\\nWeibo : https://weibo.com/u/5985423938\\n\\n#혜리 #hyeri #나는이혜리 #Vlog #걸스데이 #곱창 #흑당버블티 #먹방'], ['왕십리 제일곱창, 서울에서 제일 핫한 2시간 웨이팅 소곱창 맛집 -[지하철 맛집투어 왕십리역] / VLOG 맛집 브이로그', '주말엔산책', 7719, '한여름 무더위에도 2시간 웨이팅이 기본.\\n서울 최고 인기 소곱창집, 왕십리 제일곱창.\\n\\n이번주 맛집탐방은\\n왕십리 하면 곱창, 곱창하면 제일곱창이라는 말이 있을 정도로\\n곱창으로 핫한 왕십리에서도 가~~~장핫한 제일곱창을 다녀왔어요.\\n\\n2시간 기다리는게 정말 힘들었지만..\\n맛은 그래도 인정!\\n\\n한우 곱창 : 22,000원 / 250g\\n한우 대창 : 21,000원 / 210g\\n양깃 머리 : 25,000원 / 180g\\n모듬 구이 : 51,000원 / 580g\\n볶음밥 3,000원 / 라면사리 3,000원\\n\\n주의하실 점은, 먹다가 중간에 구이류(곱창,대창,모듬 등) 추가가 안된다는 점! 처음부터 먹을만치 시키세요!\\n참고로 양이 적어서 2명이 가면 3인분은 기본으로 시키는걸 추천!\\n\\n**구독과 좋아요, 그리고 댓글로 맛집 추천도 부탁드려요!\\n\\n#bobblessu #맛집탐방 #제일곱창 #왕십리 #곱창'], [\"화사가 추천한 '그' 곱창집 직접가보았습니다 *고텐션주의*\", '엠브로 MBRO', 1008916, '엠브로 업로드 시간 - 10시 30분 - 12 시 30분 \\n심야 3편 야외 2편 심야 1편 업로드입니다 \\n주1회는 휴방입니다\\n영상을 시청하시기전에 \\n구독과 좋아요 부탁드립니다.\\n크리에이터에게 큰 힘이됩니다 ! \\n또한 긍정적인 댓글또한 큰 힘이됩니다 ! \\n인스타그램 눈팅용 계정이지만 팔로우 해주시면 감사합니다.\\n인스타그램 : https://www.instagram.com/monsterbrothers.mbro\\n광고문의는 아래의 메일로 보내주시면 감사합니다\\n광고 문의 : mbro7@naver.com\\n영상의 협업 유무 □'], ['횡성에서 1등하는 소곱창 맛집을 찾았습니다! 전부 다 서비스로 준다고하네요 ㄷㄷ', '하얀트리HayanTree', 280885, '* 광희네곱창\\n - 강원 횡성군 횡성읍 읍하남로25번길 22\\n - 한우 곱창 300g 25,000원\\n   볶음밥 2,000원\\n\\n🍀하얀트리 멤버십 가입하기🍀\\nhttps://www.youtube.com/channel/UCqbpna45EO7qaARGv2vgjkg/join\\n\\n🍉심심해서 만든 하얀트리 쇼핑몰🍉\\nhttps://hayantree.com/\\n - 제가 직접 사용하는 제품들을 모아둔 곳이랍니다!\\n   모니터, 카메라 등등 다이어트 할때 먹는 음식들을 공유하고 있어요!\\n\\n🥩-----\\n#광희네곱창 #곱창 #소곱창 #횡성 #한우 #한우곱창 #대창 #Mukbang\\n\\n🍖-----\\n*본 영상은 광고와 협찬 사실이 없음을 알려드리며\\n 제가 직접 알아보고 선정하여 다녀온 식당입니다.\\n*방문 전에 식당에 대한 정보를 충분히 알아보시고\\n스스로의 기준에 맞춰 찾아가보시는걸 추천드립니다.\\n\\n🥪-----\\n☆하얀트리 채널에 오신걸 환영합니다!\\n * 세상 모든 식당을 소개하는 음식탐험가입니다!\\n ＊업로드요일 : 월, 금\\n     업로드 시간 : 오후 5시\\n     (정말 가끔 수요일 혹은 주말에 보너스 영상이 올라온답니다)\\n  * 광고&협찬 문의 : limms923@gmail.com\\n  * 편지 보내는 곳 : 서울특별시 강남구 테헤란로 518 15층 샌드박스 \"하얀트리\" \\n\\n🍰-----\\n\\n자막 템플릿 : 론박자막연구소\\n\\n영상 음원']]\n"
    },
    {
     "output_type": "execute_result",
     "data": {
      "text/plain": "                                                 영상제목  \\\n0                                     서울 삼겹살 맛집 베스트 5   \n1       백종원이 인정한 삼겹살 맛집?! 인천 지역 최고의 생갈비+삼겹살 식당을 소개합니다   \n2                               서울 3대 삼겹살 [서울 역삼동 맛집]   \n3          5000원에 먹는 삼겹살?!! 최저가 미친 가성비 삼겹살 맛집을 찾았습니다!   \n4                        독보적인 가성비와 맛! 인생 최고의 냉동삼겹살 맛집   \n5                                국내 최고로 평가받는 냉동삼겹살 맛집   \n6   ENG) 방탄소년단 정국이 3개월 연속 갔던 삼겹살 맛집?! BTS' Favorit...   \n7   ★강북최고맛집★ 구글평점 4.5!! 강북 삼겹살 맛집 TOP4!! (수요미식회, 골...   \n8   eng)당신이 지금까지 먹던 삼겹살은 가짜였다?!(The Best Pork BBQ ...   \n9       욕쟁이 할머니의 삼겹살 맛집, 운문식당 25년 역사 [대구 맛집], [대구 형제]   \n10  홍진영 보증하는 10년 단골 곱창집! | 수요미식회 곱창 Gopchang Tripe...   \n11                              요즘 제일 핫한 서울 소곱창 맛집 8곳   \n12  서울 곱창 맛집 양대산맥 TOP 2 전격비교 (소곱창 종결 ㅣ 곱창전골 ㅣ곱창집 추...   \n13  화사 곱창 맛집 저리가! 리얼 3대 곱창 맛집 | Wednesday Foodtalk...   \n14  [백종원의 골목식당] 'SNS 평판 1위! 변함없는 서산 곱창집!' / 'Backs...   \n15  곱창 맛집 찾으세요? 이 영상으로 끝내드립니다. 삼성전자 회식의 명소라는 곱창집을 ...   \n16                     혜리 Vlog | 곱창 맛집 뽀개고 흑당밀크티 영업당함   \n17  왕십리 제일곱창, 서울에서 제일 핫한 2시간 웨이팅 소곱창 맛집 -[지하철 맛집투어...   \n18                   화사가 추천한 '그' 곱창집 직접가보았습니다 *고텐션주의*   \n19       횡성에서 1등하는 소곱창 맛집을 찾았습니다! 전부 다 서비스로 준다고하네요 ㄷㄷ   \n\n                           유튜버      조회수  \\\n0                         토토로그    45645   \n1                하얀트리HayanTree   381264   \n2              정육왕 MeatCreator   225079   \n3                하얀트리HayanTree   430035   \n4                       빅페이스TV   244509   \n5                       빅페이스TV   361150   \n6   안구정화TV, Your Korean Friend  1084778   \n7                       강북 미식회     7868   \n8                          먹선생      557   \n9                    대구형제_대구맛집     3721   \n10                       Olive   397969   \n11               Pikicast피키캐스트    68916   \n12                       술맛여행놈      893   \n13                       Olive    13956   \n14         SBS NOW / SBS 공식 채널  1355635   \n15            LIMCEO 임대표의 맛집탐방    25447   \n16                          혜리  4262354   \n17                       주말엔산책     7719   \n18                    엠브로 MBRO  1008916   \n19               하얀트리HayanTree   280885   \n\n                                                   설명  \n0   *********** 전국 맛집 베스트 재생목록 ***************\\nht...  \n1   하얀트리의 모든 것 : https://hayantree.com/\\r\\n - 제가 직...  \n2   그럼 나머지 두곳은 어디인가요!?\\n#정육왕 #육전식당 #서울3대삼겹살\\n-----...  \n3   🌱본 영상은 수입식당으로 부터 광고 의뢰를 받아 제작한 광고 영상입니다!🌱 \\n\\n...  \n4   빅페이스 인스타그램▶ https://www.instagram.com/bigfacet...  \n5   빅페이스 인스타그램▶ https://www.instagram.com/bigfacet...  \n6   방탄소년단 BTS가 한달 전에도 갔었던 최애 삼겹살집, 금돼지 식당에 갔다왔어요! ...  \n7   ★ 강북 삼겹살맛집 총정리 ★\\n안녕하세요. 강북미식회에 오신것을 환영합니다.\\n\\...  \n8                    인사동에서 먹은 뇌를 때리는듯한 존맛탱 삼겹살 853입니다  \n9   오늘 대구 맛집 영상은 예전에 찍었던 대구 삼겹살 맛집 '운문식당'입니다!\\n지인의...  \n10  곱창구이에 한우 된장밥은 진리 아니겠습니까...?\\n아 배고파ㅏㅏㅏ\\n\\n#수요미식...  \n11  요즘 제일 핫한 서울 소곱창 맛집 8곳\\n\\n요즘 없어서 못 먹는다는 소곱창!!\\n...  \n12  서울 곱창 맛집 양대산맥 TOP 2 전격비교 (소곱창 종결 ㅣ 곱창전골 ㅣ곱창집 추...  \n13  화사가 추천한 곱창 맛집은 저리가라!\\n진짜 곱창 3대 맛집이 있다는데?\\n다시 꽉...  \n14  흔들리는 곱창 속에서~ 네 샴푸 향이 느껴진 거야~\\n이랬던 곱창집이 SNS 평판 ...  \n15  이메일 주소\\n• limcommceo@gmail.com\\n\\n후원\\n• https:...  \n16  드디어 기다리고 기다리던 걸스데이 완전체!\\n민아언니가 소개한 곱창 맛집부터 소진언...  \n17  한여름 무더위에도 2시간 웨이팅이 기본.\\n서울 최고 인기 소곱창집, 왕십리 제일곱...  \n18  엠브로 업로드 시간 - 10시 30분 - 12 시 30분 \\n심야 3편 야외 2편 ...  \n19  * 광희네곱창\\n - 강원 횡성군 횡성읍 읍하남로25번길 22\\n - 한우 곱창 3...  ",
      "text/html": "<div>\n<style scoped>\n    .dataframe tbody tr th:only-of-type {\n        vertical-align: middle;\n    }\n\n    .dataframe tbody tr th {\n        vertical-align: top;\n    }\n\n    .dataframe thead th {\n        text-align: right;\n    }\n</style>\n<table border=\"1\" class=\"dataframe\">\n  <thead>\n    <tr style=\"text-align: right;\">\n      <th></th>\n      <th>영상제목</th>\n      <th>유튜버</th>\n      <th>조회수</th>\n      <th>설명</th>\n    </tr>\n  </thead>\n  <tbody>\n    <tr>\n      <th>0</th>\n      <td>서울 삼겹살 맛집 베스트 5</td>\n      <td>토토로그</td>\n      <td>45645</td>\n      <td>*********** 전국 맛집 베스트 재생목록 ***************\\nht...</td>\n    </tr>\n    <tr>\n      <th>1</th>\n      <td>백종원이 인정한 삼겹살 맛집?! 인천 지역 최고의 생갈비+삼겹살 식당을 소개합니다</td>\n      <td>하얀트리HayanTree</td>\n      <td>381264</td>\n      <td>하얀트리의 모든 것 : https://hayantree.com/\\r\\n - 제가 직...</td>\n    </tr>\n    <tr>\n      <th>2</th>\n      <td>서울 3대 삼겹살 [서울 역삼동 맛집]</td>\n      <td>정육왕 MeatCreator</td>\n      <td>225079</td>\n      <td>그럼 나머지 두곳은 어디인가요!?\\n#정육왕 #육전식당 #서울3대삼겹살\\n-----...</td>\n    </tr>\n    <tr>\n      <th>3</th>\n      <td>5000원에 먹는 삼겹살?!! 최저가 미친 가성비 삼겹살 맛집을 찾았습니다!</td>\n      <td>하얀트리HayanTree</td>\n      <td>430035</td>\n      <td>🌱본 영상은 수입식당으로 부터 광고 의뢰를 받아 제작한 광고 영상입니다!🌱 \\n\\n...</td>\n    </tr>\n    <tr>\n      <th>4</th>\n      <td>독보적인 가성비와 맛! 인생 최고의 냉동삼겹살 맛집</td>\n      <td>빅페이스TV</td>\n      <td>244509</td>\n      <td>빅페이스 인스타그램▶ https://www.instagram.com/bigfacet...</td>\n    </tr>\n    <tr>\n      <th>5</th>\n      <td>국내 최고로 평가받는 냉동삼겹살 맛집</td>\n      <td>빅페이스TV</td>\n      <td>361150</td>\n      <td>빅페이스 인스타그램▶ https://www.instagram.com/bigfacet...</td>\n    </tr>\n    <tr>\n      <th>6</th>\n      <td>ENG) 방탄소년단 정국이 3개월 연속 갔던 삼겹살 맛집?! BTS' Favorit...</td>\n      <td>안구정화TV, Your Korean Friend</td>\n      <td>1084778</td>\n      <td>방탄소년단 BTS가 한달 전에도 갔었던 최애 삼겹살집, 금돼지 식당에 갔다왔어요! ...</td>\n    </tr>\n    <tr>\n      <th>7</th>\n      <td>★강북최고맛집★ 구글평점 4.5!! 강북 삼겹살 맛집 TOP4!! (수요미식회, 골...</td>\n      <td>강북 미식회</td>\n      <td>7868</td>\n      <td>★ 강북 삼겹살맛집 총정리 ★\\n안녕하세요. 강북미식회에 오신것을 환영합니다.\\n\\...</td>\n    </tr>\n    <tr>\n      <th>8</th>\n      <td>eng)당신이 지금까지 먹던 삼겹살은 가짜였다?!(The Best Pork BBQ ...</td>\n      <td>먹선생</td>\n      <td>557</td>\n      <td>인사동에서 먹은 뇌를 때리는듯한 존맛탱 삼겹살 853입니다</td>\n    </tr>\n    <tr>\n      <th>9</th>\n      <td>욕쟁이 할머니의 삼겹살 맛집, 운문식당 25년 역사 [대구 맛집], [대구 형제]</td>\n      <td>대구형제_대구맛집</td>\n      <td>3721</td>\n      <td>오늘 대구 맛집 영상은 예전에 찍었던 대구 삼겹살 맛집 '운문식당'입니다!\\n지인의...</td>\n    </tr>\n    <tr>\n      <th>10</th>\n      <td>홍진영 보증하는 10년 단골 곱창집! | 수요미식회 곱창 Gopchang Tripe...</td>\n      <td>Olive</td>\n      <td>397969</td>\n      <td>곱창구이에 한우 된장밥은 진리 아니겠습니까...?\\n아 배고파ㅏㅏㅏ\\n\\n#수요미식...</td>\n    </tr>\n    <tr>\n      <th>11</th>\n      <td>요즘 제일 핫한 서울 소곱창 맛집 8곳</td>\n      <td>Pikicast피키캐스트</td>\n      <td>68916</td>\n      <td>요즘 제일 핫한 서울 소곱창 맛집 8곳\\n\\n요즘 없어서 못 먹는다는 소곱창!!\\n...</td>\n    </tr>\n    <tr>\n      <th>12</th>\n      <td>서울 곱창 맛집 양대산맥 TOP 2 전격비교 (소곱창 종결 ㅣ 곱창전골 ㅣ곱창집 추...</td>\n      <td>술맛여행놈</td>\n      <td>893</td>\n      <td>서울 곱창 맛집 양대산맥 TOP 2 전격비교 (소곱창 종결 ㅣ 곱창전골 ㅣ곱창집 추...</td>\n    </tr>\n    <tr>\n      <th>13</th>\n      <td>화사 곱창 맛집 저리가! 리얼 3대 곱창 맛집 | Wednesday Foodtalk...</td>\n      <td>Olive</td>\n      <td>13956</td>\n      <td>화사가 추천한 곱창 맛집은 저리가라!\\n진짜 곱창 3대 맛집이 있다는데?\\n다시 꽉...</td>\n    </tr>\n    <tr>\n      <th>14</th>\n      <td>[백종원의 골목식당] 'SNS 평판 1위! 변함없는 서산 곱창집!' / 'Backs...</td>\n      <td>SBS NOW / SBS 공식 채널</td>\n      <td>1355635</td>\n      <td>흔들리는 곱창 속에서~ 네 샴푸 향이 느껴진 거야~\\n이랬던 곱창집이 SNS 평판 ...</td>\n    </tr>\n    <tr>\n      <th>15</th>\n      <td>곱창 맛집 찾으세요? 이 영상으로 끝내드립니다. 삼성전자 회식의 명소라는 곱창집을 ...</td>\n      <td>LIMCEO 임대표의 맛집탐방</td>\n      <td>25447</td>\n      <td>이메일 주소\\n• limcommceo@gmail.com\\n\\n후원\\n• https:...</td>\n    </tr>\n    <tr>\n      <th>16</th>\n      <td>혜리 Vlog | 곱창 맛집 뽀개고 흑당밀크티 영업당함</td>\n      <td>혜리</td>\n      <td>4262354</td>\n      <td>드디어 기다리고 기다리던 걸스데이 완전체!\\n민아언니가 소개한 곱창 맛집부터 소진언...</td>\n    </tr>\n    <tr>\n      <th>17</th>\n      <td>왕십리 제일곱창, 서울에서 제일 핫한 2시간 웨이팅 소곱창 맛집 -[지하철 맛집투어...</td>\n      <td>주말엔산책</td>\n      <td>7719</td>\n      <td>한여름 무더위에도 2시간 웨이팅이 기본.\\n서울 최고 인기 소곱창집, 왕십리 제일곱...</td>\n    </tr>\n    <tr>\n      <th>18</th>\n      <td>화사가 추천한 '그' 곱창집 직접가보았습니다 *고텐션주의*</td>\n      <td>엠브로 MBRO</td>\n      <td>1008916</td>\n      <td>엠브로 업로드 시간 - 10시 30분 - 12 시 30분 \\n심야 3편 야외 2편 ...</td>\n    </tr>\n    <tr>\n      <th>19</th>\n      <td>횡성에서 1등하는 소곱창 맛집을 찾았습니다! 전부 다 서비스로 준다고하네요 ㄷㄷ</td>\n      <td>하얀트리HayanTree</td>\n      <td>280885</td>\n      <td>* 광희네곱창\\n - 강원 횡성군 횡성읍 읍하남로25번길 22\\n - 한우 곱창 3...</td>\n    </tr>\n  </tbody>\n</table>\n</div>"
     },
     "metadata": {},
     "execution_count": 39
    }
   ],
   "source": [
    "#dataset = pd.DataFrame(columns=['맛집','주소','본문'])\n",
    "index = 0\n",
    "list = []\n",
    "\n",
    "for w in word:\n",
    "    for mat in dic[w]:\n",
    "       \n",
    "        video_url = 'https://www.youtube.com' + mat\n",
    "        yt = YouTube(video_url)\n",
    "        \n",
    "        title = yt.title\n",
    "        author = yt.author\n",
    "        views = yt.views\n",
    "        script = yt.description\n",
    "    \n",
    "        list.append([title,author,views,script])\n",
    "        \n",
    "        #dataset.loc[index] = [title,author,views,script]\n",
    "\n",
    "dataset = pd.DataFrame(list,columns=['영상제목','유튜버','조회수','설명'])\n",
    "dataset\n"
   ]
  },
  {
   "cell_type": "code",
   "execution_count": 40,
   "metadata": {
    "tags": []
   },
   "outputs": [],
   "source": [
    "# f = open(f'youtube_description.csv','w',encoding='utf-8', newline='')\n",
    "# csvWriter = csv.writer(f)\n",
    "\n",
    "# for i in searchlist:\n",
    "#     csvWriter.writerow(i)\n",
    "\n",
    "# f.close"
   ]
  },
  {
   "cell_type": "code",
   "execution_count": 41,
   "metadata": {
    "tags": []
   },
   "outputs": [
    {
     "output_type": "stream",
     "name": "stdout",
     "text": "END\n"
    }
   ],
   "source": [
    "dataset.to_csv('test.csv', index=False, encoding='utf-8-sig')\n",
    "print('END')"
   ]
  },
  {
   "cell_type": "code",
   "execution_count": 42,
   "metadata": {
    "tags": []
   },
   "outputs": [],
   "source": [
    "# for w in word:\n",
    "#     for mat in dic[w]:\n",
    "#         script = \"[영상 설명]\", yt.description\n",
    "#         print('url : https://www.youtube.com' + mat)\n",
    "\n",
    "#         video_url = 'https://www.youtube.com' + mat\n",
    "#         yt = YouTube(video_url)\n",
    "\n",
    "#         print(script) # 영상 설명\n",
    "        \n",
    "#     try: \n",
    "#         yt = YouTube(video_url)\n",
    "\n",
    "#     except KeyError:\n",
    "#         print('1')\n",
    "\n",
    "#     except JSONDecodeError:\n",
    "#         print('2')\n",
    "\n",
    "#     except NameError:\n",
    "#         print('3')\n",
    "\n",
    "                 \n",
    "#         dataset.loc[index] = [title,author,views,script]\n",
    "#         print([index]) #잘 되고있는지 확인\n",
    "#         index+= 1\n",
    "# dataset\n"
   ]
  }
 ],
 "metadata": {
  "kernelspec": {
   "display_name": "Python 3.7.2 32-bit",
   "language": "python",
   "name": "python_defaultSpec_1598674699789"
  },
  "language_info": {
   "codemirror_mode": {
    "name": "ipython",
    "version": 3
   },
   "file_extension": ".py",
   "mimetype": "text/x-python",
   "name": "python",
   "nbconvert_exporter": "python",
   "pygments_lexer": "ipython3",
   "version": "3.7.2-final"
  }
 },
 "nbformat": 4,
 "nbformat_minor": 4
}