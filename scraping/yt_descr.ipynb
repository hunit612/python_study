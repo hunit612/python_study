{
 "cells": [
  {
   "cell_type": "code",
   "execution_count": null,
   "metadata": {},
   "outputs": [],
   "source": [
    "\n",
    "from selenium import webdriver\n",
    "from bs4 import BeautifulSoup\n",
    "import time\n",
    "import urllib\n",
    "import requests\n",
    "import re\n",
    "import pandas as pd\n",
    "from pytube import YouTube"
   ]
  },
  {
   "cell_type": "code",
   "execution_count": null,
   "metadata": {
    "tags": []
   },
   "outputs": [],
   "source": [
    "word = ['삼겹살 맛집', '곱창 맛집']\n",
    "dic = {}\n",
    "\n",
    "for i in word:\n",
    "    print([i])\n",
    "    n = 1\n",
    "    val = []\n",
    "    word_encode = urllib.parse.quote(i)\n",
    "    driver = webdriver.Chrome('chromedriver')\n",
    "    driver.get('https://www.youtube.com/results?search_query={}'.format(word_encode))\n",
    "\n",
    "    time.sleep(2)\n",
    "    \n",
    "    html = driver.page_source\n",
    "\n",
    "    bs = BeautifulSoup(html, 'html.parser') \n",
    "    a = bs.findAll(\"a\", {\"id\":\"thumbnail\"})\n",
    "    count = 0\n",
    "\n",
    "    for af in a:\n",
    "        if count < 10:\n",
    "            print(n)\n",
    "\n",
    "            print('https://www.youtube.com' + af['href'])\n",
    "            count += 1\n",
    "            n += 1\n",
    "            val.append(af['href'])\n",
    "        else:\n",
    "            break\n",
    "            \n",
    "    \n",
    "    dic[i] = val\n",
    "    \n",
    "print('ㅡ * ㅡ' * 10)"
   ]
  },
  {
   "cell_type": "code",
   "execution_count": null,
   "metadata": {
    "tags": [
     "outputPrepend"
    ]
   },
   "outputs": [],
   "source": [
    "\n",
    "index = 0\n",
    "list = []\n",
    "\n",
    "for w in word:\n",
    "    for mat in dic[w]:\n",
    "       \n",
    "        video_url = 'https://www.youtube.com' + mat\n",
    "        yt = YouTube(video_url)\n",
    "        \n",
    "        title = yt.title\n",
    "        author = yt.author\n",
    "        views = yt.views\n",
    "        script = yt.description\n",
    "    \n",
    "        list.append([title,author,views,script])\n",
    "        \n",
    "\n",
    "dataset = pd.DataFrame(list,columns=['영상제목','유튜버','조회수','설명'])\n",
    "dataset\n"
   ]
  },
  {
   "cell_type": "code",
   "execution_count": null,
   "metadata": {
    "tags": []
   },
   "outputs": [],
   "source": [
    "dataset.to_csv('test.csv', index=False, encoding='utf-8-sig')\n",
    "print('END')"
   ]
  }
 ],
 "metadata": {
  "kernelspec": {
   "display_name": "Python 3.7.2 32-bit",
   "language": "python",
   "name": "python_defaultSpec_1598674699789"
  },
  "language_info": {
   "codemirror_mode": {
    "name": "ipython",
    "version": 3
   },
   "file_extension": ".py",
   "mimetype": "text/x-python",
   "name": "python",
   "nbconvert_exporter": "python",
   "pygments_lexer": "ipython3",
   "version": "3.7.2-final"
  }
 },
 "nbformat": 4,
 "nbformat_minor": 4
}